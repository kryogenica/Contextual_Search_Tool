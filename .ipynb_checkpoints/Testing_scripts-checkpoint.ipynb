{
 "cells": [
  {
   "cell_type": "code",
   "execution_count": 1,
   "id": "b89b244a-37a4-4cb7-a288-25087f3c72f1",
   "metadata": {},
   "outputs": [],
   "source": [
    "# Load the base module\n",
    "from scripts.scene_extractor import SceneExtractor\n",
    "from scripts.embedding_model import EmbeddingModel\n",
    "from scripts.search_tool import SearchTool\n",
    "\n",
    "scenes = SceneExtractor('examples/Tenet.txt')"
   ]
  },
  {
   "cell_type": "code",
   "execution_count": 2,
   "id": "8b16fc0e-f70c-4bc9-b3a7-be2f760fb57e",
   "metadata": {},
   "outputs": [],
   "source": [
    "# Initialize the embedding model and fine-tune if necessary\n",
    "embedding_model = EmbeddingModel()\n",
    "search_tool = SearchTool(embedding_model)"
   ]
  },
  {
   "cell_type": "code",
   "execution_count": 3,
   "id": "6a3487f5-9624-4ff9-8136-9c127d556371",
   "metadata": {},
   "outputs": [
    {
     "name": "stdout",
     "output_type": "stream",
     "text": [
      "Time taken to embed actions and dialogoue of each scene across all the movie script: 76.78 seconds\n"
     ]
    }
   ],
   "source": [
    "# Embed scenes and search for similar scenes\n",
    "search_tool.embed_actions_and_dialogues(scenes)"
   ]
  },
  {
   "cell_type": "code",
   "execution_count": 4,
   "id": "bcd4560c-d863-4375-97df-6a5f21544f92",
   "metadata": {},
   "outputs": [],
   "source": [
    "# Search for similar action and dialogue based off query text\n",
    "action_results = search_tool.search_actions(\"The Protagonist cleans himself and steps towards a car.\", scenes, embedding_type='mean')\n",
    "dialogoue_results = search_tool.search_dialogue(\"I have two minutes. Make up your mind.\", scenes, embedding_type='mean')"
   ]
  },
  {
   "cell_type": "code",
   "execution_count": 5,
   "id": "e0342c41-ebf8-4bf6-aeb1-6e95fb1bdb72",
   "metadata": {},
   "outputs": [
    {
     "data": {
      "text/html": [
       "<div>\n",
       "<style scoped>\n",
       "    .dataframe tbody tr th:only-of-type {\n",
       "        vertical-align: middle;\n",
       "    }\n",
       "\n",
       "    .dataframe tbody tr th {\n",
       "        vertical-align: top;\n",
       "    }\n",
       "\n",
       "    .dataframe thead th {\n",
       "        text-align: right;\n",
       "    }\n",
       "</style>\n",
       "<table border=\"1\" class=\"dataframe\">\n",
       "  <thead>\n",
       "    <tr style=\"text-align: right;\">\n",
       "      <th></th>\n",
       "      <th>Similarity</th>\n",
       "      <th>Scene</th>\n",
       "      <th>Action Index</th>\n",
       "      <th>Text</th>\n",
       "    </tr>\n",
       "  </thead>\n",
       "  <tbody>\n",
       "    <tr>\n",
       "      <th>0</th>\n",
       "      <td>0.903632</td>\n",
       "      <td>61</td>\n",
       "      <td>0</td>\n",
       "      <td>The Protagonist brushes himself clean, SPOTS t...</td>\n",
       "    </tr>\n",
       "    <tr>\n",
       "      <th>1</th>\n",
       "      <td>0.898844</td>\n",
       "      <td>167</td>\n",
       "      <td>16</td>\n",
       "      <td>The Protagonist moves towards the door. Ives s...</td>\n",
       "    </tr>\n",
       "    <tr>\n",
       "      <th>2</th>\n",
       "      <td>0.888509</td>\n",
       "      <td>129</td>\n",
       "      <td>0</td>\n",
       "      <td>The Protagonist makes his way through the stor...</td>\n",
       "    </tr>\n",
       "    <tr>\n",
       "      <th>3</th>\n",
       "      <td>0.888377</td>\n",
       "      <td>134</td>\n",
       "      <td>3</td>\n",
       "      <td>The Protagonist struggles to his feet.</td>\n",
       "    </tr>\n",
       "    <tr>\n",
       "      <th>4</th>\n",
       "      <td>0.887930</td>\n",
       "      <td>45</td>\n",
       "      <td>0</td>\n",
       "      <td>The Protagonist enters, is approached by a STE...</td>\n",
       "    </tr>\n",
       "  </tbody>\n",
       "</table>\n",
       "</div>"
      ],
      "text/plain": [
       "   Similarity  Scene  Action Index  \\\n",
       "0    0.903632     61             0   \n",
       "1    0.898844    167            16   \n",
       "2    0.888509    129             0   \n",
       "3    0.888377    134             3   \n",
       "4    0.887930     45             0   \n",
       "\n",
       "                                                Text  \n",
       "0  The Protagonist brushes himself clean, SPOTS t...  \n",
       "1  The Protagonist moves towards the door. Ives s...  \n",
       "2  The Protagonist makes his way through the stor...  \n",
       "3             The Protagonist struggles to his feet.  \n",
       "4  The Protagonist enters, is approached by a STE...  "
      ]
     },
     "execution_count": 5,
     "metadata": {},
     "output_type": "execute_result"
    }
   ],
   "source": [
    "# Print action results\n",
    "action_results"
   ]
  },
  {
   "cell_type": "code",
   "execution_count": 6,
   "id": "9dd4fbcd-d2c7-4e8c-a0ee-9d1815b9c925",
   "metadata": {},
   "outputs": [
    {
     "data": {
      "text/html": [
       "<div>\n",
       "<style scoped>\n",
       "    .dataframe tbody tr th:only-of-type {\n",
       "        vertical-align: middle;\n",
       "    }\n",
       "\n",
       "    .dataframe tbody tr th {\n",
       "        vertical-align: top;\n",
       "    }\n",
       "\n",
       "    .dataframe thead th {\n",
       "        text-align: right;\n",
       "    }\n",
       "</style>\n",
       "<table border=\"1\" class=\"dataframe\">\n",
       "  <thead>\n",
       "    <tr style=\"text-align: right;\">\n",
       "      <th></th>\n",
       "      <th>Similarity</th>\n",
       "      <th>Scene</th>\n",
       "      <th>Dialogue Index</th>\n",
       "      <th>Character</th>\n",
       "      <th>Dialogue</th>\n",
       "    </tr>\n",
       "  </thead>\n",
       "  <tbody>\n",
       "    <tr>\n",
       "      <th>0</th>\n",
       "      <td>0.936695</td>\n",
       "      <td>7</td>\n",
       "      <td>5</td>\n",
       "      <td>PROTAGONIST</td>\n",
       "      <td>Bring you in or kill you I have two minutes. M...</td>\n",
       "    </tr>\n",
       "    <tr>\n",
       "      <th>1</th>\n",
       "      <td>0.857790</td>\n",
       "      <td>208</td>\n",
       "      <td>14</td>\n",
       "      <td>IVES</td>\n",
       "      <td>Need to know. And you don't. Any other stupid ...</td>\n",
       "    </tr>\n",
       "    <tr>\n",
       "      <th>2</th>\n",
       "      <td>0.848231</td>\n",
       "      <td>115</td>\n",
       "      <td>2</td>\n",
       "      <td>SATOR</td>\n",
       "      <td>(quiet) Don't bother. Just tell me if you've s...</td>\n",
       "    </tr>\n",
       "    <tr>\n",
       "      <th>3</th>\n",
       "      <td>0.841835</td>\n",
       "      <td>115</td>\n",
       "      <td>0</td>\n",
       "      <td>PROTAGONIST</td>\n",
       "      <td>Where I'm from, you buy me dinner first.</td>\n",
       "    </tr>\n",
       "    <tr>\n",
       "      <th>4</th>\n",
       "      <td>0.841798</td>\n",
       "      <td>46</td>\n",
       "      <td>3</td>\n",
       "      <td>PROTAGONIST</td>\n",
       "      <td>No, just pass on the order.</td>\n",
       "    </tr>\n",
       "  </tbody>\n",
       "</table>\n",
       "</div>"
      ],
      "text/plain": [
       "   Similarity  Scene  Dialogue Index    Character  \\\n",
       "0    0.936695      7               5  PROTAGONIST   \n",
       "1    0.857790    208              14         IVES   \n",
       "2    0.848231    115               2        SATOR   \n",
       "3    0.841835    115               0  PROTAGONIST   \n",
       "4    0.841798     46               3  PROTAGONIST   \n",
       "\n",
       "                                            Dialogue  \n",
       "0  Bring you in or kill you I have two minutes. M...  \n",
       "1  Need to know. And you don't. Any other stupid ...  \n",
       "2  (quiet) Don't bother. Just tell me if you've s...  \n",
       "3           Where I'm from, you buy me dinner first.  \n",
       "4                        No, just pass on the order.  "
      ]
     },
     "execution_count": 6,
     "metadata": {},
     "output_type": "execute_result"
    }
   ],
   "source": [
    "# Print dialogoue results\n",
    "dialogoue_results"
   ]
  },
  {
   "cell_type": "code",
   "execution_count": 7,
   "id": "c75845cd-3437-4836-9244-f7fb9ae88889",
   "metadata": {},
   "outputs": [
    {
     "name": "stdout",
     "output_type": "stream",
     "text": [
      "Data saved to examples/Tenet_embeddings.pkl\n"
     ]
    }
   ],
   "source": [
    "# Save embeddings, transformer model name and movie script location\n",
    "search_tool.save_embeddings('examples/Tenet_embeddings.pkl')"
   ]
  },
  {
   "cell_type": "code",
   "execution_count": 5,
   "id": "4c91031f-16a5-49d7-aa74-401da3fc8e8e",
   "metadata": {},
   "outputs": [
    {
     "name": "stdout",
     "output_type": "stream",
     "text": [
      "Data loaded from examples/Tenet_embeddings.pkl\n"
     ]
    }
   ],
   "source": [
    "#Load saved embedding and setup tokenizer model\n",
    "from scripts.search_tool import SearchTool\n",
    "new_search_tool = SearchTool(embedding_model=None)\n",
    "new_search_tool.load_embeddings('examples/Tenet_embeddings.pkl')"
   ]
  }
 ],
 "metadata": {
  "kernelspec": {
   "display_name": "Python 3 (ipykernel)",
   "language": "python",
   "name": "python3"
  },
  "language_info": {
   "codemirror_mode": {
    "name": "ipython",
    "version": 3
   },
   "file_extension": ".py",
   "mimetype": "text/x-python",
   "name": "python",
   "nbconvert_exporter": "python",
   "pygments_lexer": "ipython3",
   "version": "3.11.7"
  }
 },
 "nbformat": 4,
 "nbformat_minor": 5
}
